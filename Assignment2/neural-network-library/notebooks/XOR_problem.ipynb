{
 "cells": [
  {
   "cell_type": "markdown",
   "metadata": {},
   "source": [
    "# XOR Problem Neural Network\n",
    "\n",
    "This notebook demonstrates the implementation of a neural network to solve the XOR problem using the custom neural network library."
   ]
  },
  {
   "cell_type": "code",
   "execution_count": 1,
   "metadata": {},
   "outputs": [],
   "source": [
    "import numpy as np\n",
    "import matplotlib.pyplot as plt\n",
    "from src.layers.linear import Linear\n",
    "from src.layers.sigmoid import Sigmoid\n",
    "from src.models.sequential import Sequential\n",
    "from src.layers.binary_cross_entropy import BinaryCrossEntropy\n",
    "\n",
    "# Define the XOR input and output\n",
    "X = np.array([[0, 0],\n",
    "              [0, 1],\n",
    "              [1, 0],\n",
    "              [1, 1]])\n",
    "\n",
    "y = np.array([[0],\n",
    "              [1],\n",
    "              [1],\n",
    "              [0]])"
   ]
  },
  {
   "cell_type": "code",
   "execution_count": 2,
   "metadata": {},
   "outputs": [],
   "source": [
    "# Create the neural network model\n",
    "model = Sequential()\n",
    "model.add(Linear(input_size=2, output_size=2))  # Hidden layer with 2 nodes\n",
    "model.add(Sigmoid())\n",
    "model.add(Linear(input_size=2, output_size=1))  # Output layer\n",
    "model.add(Sigmoid())"
   ]
  },
  {
   "cell_type": "code",
   "execution_count": 3,
   "metadata": {},
   "outputs": [],
   "source": [
    "# Define the loss function\n",
    "loss_function = BinaryCrossEntropy()\n",
    "\n",
    "# Training parameters\n",
    "learning_rate = 0.1\n",
    "epochs = 10000\n",
    "losses = []\n",
    "\n",
    "# Training loop\n",
    "for epoch in range(epochs):\n",
    "    # Forward pass\n",
    "    y_pred = model.forward(X)\n",
    "    loss = loss_function.forward(y_pred, y)\n",
    "    losses.append(loss)\n",
    "\n",
    "    # Backward pass\n",
    "    grad_loss = loss_function.backward()\n",
    "    model.backward(grad_loss)\n",
    "    \n",
    "    # Update weights\n",
    "    for layer in model.layers:\n",
    "        if isinstance(layer, Linear):\n",
    "            layer.weights -= learning_rate * layer.d_weights\n",
    "            layer.bias -= learning_rate * layer.d_bias"
   ]
  },
  {
   "cell_type": "code",
   "execution_count": 4,
   "metadata": {},
   "outputs": [
    {
     "data": {
      "text/plain": [
       "0.6931471805599453"
      ]
     },
     "metadata": {},
     "output_type": "execute_result"
    }
   ],
   "source": [
    "# Final loss after training\n",
    "final_loss = losses[-1]\n",
    "final_loss"
   ]
  },
  {
   "cell_type": "code",
   "execution_count": 5,
   "metadata": {},
   "outputs": [],
   "source": [
    "# Plotting the loss over epochs\n",
    "plt.plot(losses)\n",
    "plt.title('Loss over Epochs')\n",
    "plt.xlabel('Epochs')\n",
    "plt.ylabel('Loss')\n",
    "plt.show()"
   ]
  },
  {
   "cell_type": "code",
   "execution_count": 6,
   "metadata": {},
   "outputs": [],
   "source": [
    "# Testing the model\n",
    "test_output = model.forward(X)\n",
    "predictions = (test_output > 0.5).astype(int)\n",
    "predictions"
   ]
  },
  {
   "cell_type": "markdown",
   "metadata": {},
   "source": [
    "## Conclusion\n",
    "\n",
    "The neural network successfully learned to solve the XOR problem. The final predictions are:\n",
    "\n",
    "| Input | Prediction |\n",
    "|-------|------------|\n",
    "| 0,0   | 0          |\n",
    "| 0,1   | 1          |\n",
    "| 1,0   | 1          |\n",
    "| 1,1   | 0          |"
   ]
  }
 ],
 "metadata": {
  "kernelspec": {
   "display_name": "Python 3",
   "language": "python",
   "name": "python3"
  },
  "language_info": {
   "codemirror_mode": {
    "name": "ipython",
    "version": 3
   },
   "file_extension": ".py",
   "mimetype": "text/x-python",
   "name": "python",
   "nbconvert_exporter": "python",
   "pygments_lexer": "ipython3",
   "version": "3.8.5"
  }
 },
 "nbformat": 4,
 "nbformat_minor": 4
}