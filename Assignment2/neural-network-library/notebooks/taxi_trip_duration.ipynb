{
 "cells": [
  {
   "cell_type": "markdown",
   "metadata": {},
   "source": [
    "# Predicting Taxi Trip Duration\n",
    "\n",
    "In this notebook, we will use the neural network library to construct several models for predicting taxi trip durations using the NYC taxi dataset. We will preprocess the data, build the models, and evaluate their performance."
   ]
  },
  {
   "cell_type": "code",
   "execution_count": 1,
   "metadata": {},
   "outputs": [],
   "source": [
    "import numpy as np\n",
    "import pandas as pd\n",
    "import matplotlib.pyplot as plt\n",
    "from src.models.sequential import Sequential\n",
    "from src.layers.linear import Linear\n",
    "from src.layers.sigmoid import Sigmoid\n",
    "from src.layers.relu import ReLU\n",
    "from src.layers.binary_cross_entropy import BinaryCrossEntropy\n",
    "\n",
    "# Load the dataset\n",
    "dataset = np.load(\"../data/nyc_taxi_data.npy\", allow_pickle=True).item()\n",
    "X_train, y_train, X_test, y_test = dataset[\"X_train\"], dataset[\"y_train\"], dataset[\"X_test\"], dataset[\"y_test\"]\n",
    "\n",
    "# Display the shapes of the datasets\n",
    "print(f\"Training data shape: {X_train.shape}, Training labels shape: {y_train.shape}\")\n",
    "print(f\"Test data shape: {X_test.shape}, Test labels shape: {y_test.shape}\")"
   ]
  },
  {
   "cell_type": "markdown",
   "metadata": {},
   "source": [
    "## Data Preprocessing\n",
    "\n",
    "We will preprocess the data to ensure it is suitable for training our neural network. This may include normalization, handling missing values, and selecting relevant features."
   ]
  },
  {
   "cell_type": "code",
   "execution_count": 2,
   "metadata": {},
   "outputs": [],
   "source": [
    "# Example preprocessing steps\n",
    "from sklearn.preprocessing import StandardScaler\n",
    "\n",
    "# Normalize the features\n",
    "scaler = StandardScaler()\n",
    "X_train_scaled = scaler.fit_transform(X_train)\n",
    "X_test_scaled = scaler.transform(X_test)\n",
    "\n",
    "# Convert to DataFrame for easier manipulation\n",
    "X_train_df = pd.DataFrame(X_train_scaled)\n",
    "X_test_df = pd.DataFrame(X_test_scaled)"
   ]
  },
  {
   "cell_type": "markdown",
   "metadata": {},
   "source": [
    "## Model Construction\n",
    "\n",
    "We will construct a neural network model using the Sequential class from our library. We will experiment with different architectures."
   ]
  },
  {
   "cell_type": "code",
   "execution_count": 3,
   "metadata": {},
   "outputs": [],
   "source": [
    "# Constructing a simple neural network model\n",
    "model = Sequential()\n",
    "model.add(Linear(input_dim=X_train.shape[1], output_dim=10))  # Hidden layer with 10 nodes\n",
    "model.add(ReLU())\n",
    "model.add(Linear(input_dim=10, output_dim=1))  # Output layer\n",
    "model.add(Sigmoid())\n",
    "\n",
    "# Compile the model (not implemented in this example, just a placeholder)\n",
    "# model.compile(optimizer='adam', loss=BinaryCrossEntropy())"
   ]
  },
  {
   "cell_type": "markdown",
   "metadata": {},
   "source": [
    "## Model Training\n",
    "\n",
    "We will train the model using the training data and evaluate its performance on the test data."
   ]
  },
  {
   "cell_type": "code",
   "execution_count": 4,
   "metadata": {},
   "outputs": [],
   "source": [
    "# Placeholder for training the model\n",
    "# model.fit(X_train_scaled, y_train, epochs=100, batch_size=32)\n",
    "\n",
    "# Evaluate the model\n",
    "# predictions = model.predict(X_test_scaled)\n",
    "# Evaluate performance (e.g., RMSE, MAE)\n",
    "# performance = evaluate_model(y_test, predictions)\n",
    "# print(performance)"
   ]
  },
  {
   "cell_type": "markdown",
   "metadata": {},
   "source": [
    "## Conclusion\n",
    "\n",
    "In this notebook, we constructed a neural network model for predicting taxi trip durations. We will continue to experiment with different architectures and hyperparameters to improve performance."
   ]
  }
 ],
 "metadata": {
  "kernelspec": {
   "display_name": "Python 3",
   "language": "python",
   "name": "python3"
  },
  "language_info": {
   "codemirror_mode": {
    "name": "ipython",
    "version": 3
   },
   "file_extension": ".py",
   "mimetype": "text/x-python",
   "name": "python",
   "nbconvert_exporter": "python",
   "pygments_lexer": "ipython3",
   "version": "3.8.5"
  }
 },
 "nbformat": 4,
 "nbformat_minor": 4
}